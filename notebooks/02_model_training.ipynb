{
 "cells": [
  {
   "cell_type": "code",
   "execution_count": 1,
   "id": "2067fe3e",
   "metadata": {},
   "outputs": [
    {
     "name": "stdout",
     "output_type": "stream",
     "text": [
      "[[56851    13]\n",
      " [   34    64]]\n",
      "              precision    recall  f1-score   support\n",
      "\n",
      "           0     0.9994    0.9998    0.9996     56864\n",
      "           1     0.8312    0.6531    0.7314        98\n",
      "\n",
      "    accuracy                         0.9992     56962\n",
      "   macro avg     0.9153    0.8264    0.8655     56962\n",
      "weighted avg     0.9991    0.9992    0.9991     56962\n",
      "\n"
     ]
    }
   ],
   "source": [
    "from sklearn.model_selection import train_test_split\n",
    "from sklearn.preprocessing import StandardScaler\n",
    "from sklearn.linear_model import LogisticRegression\n",
    "from sklearn.metrics import confusion_matrix, classification_report\n",
    "import pandas as pd\n",
    "\n",
    "# Chargement des données nettoyées\n",
    "df = pd.read_csv(\"../data/processed/cleaned_creditcard.csv\")\n",
    "\n",
    "# Séparation features / target\n",
    "X = df.drop('Class', axis=1)\n",
    "y = df['Class']\n",
    "\n",
    "# Split\n",
    "X_train, X_test, y_train, y_test = train_test_split(X, y, test_size=0.2, stratify=y, random_state=42)\n",
    "\n",
    "# Normalisation\n",
    "scaler = StandardScaler()\n",
    "X_train_scaled = scaler.fit_transform(X_train)\n",
    "X_test_scaled = scaler.transform(X_test)\n",
    "\n",
    "# Modèle\n",
    "model = LogisticRegression()\n",
    "model.fit(X_train_scaled, y_train)\n",
    "\n",
    "# Prédictions\n",
    "y_pred = model.predict(X_test_scaled)\n",
    "\n",
    "# Évaluation\n",
    "print(confusion_matrix(y_test, y_pred))\n",
    "print(classification_report(y_test, y_pred, digits=4))\n"
   ]
  },
  {
   "cell_type": "code",
   "execution_count": 6,
   "id": "4ecddf38",
   "metadata": {},
   "outputs": [
    {
     "data": {
      "text/plain": [
       "['..\\\\deployment\\\\model\\\\scaler.pkl']"
      ]
     },
     "execution_count": 6,
     "metadata": {},
     "output_type": "execute_result"
    }
   ],
   "source": [
    "from joblib import dump\n",
    "dump(model, '..\\deployment\\model\\model.pkl')\n",
    "dump(scaler, '..\\deployment\\model\\scaler.pkl')"
   ]
  }
 ],
 "metadata": {
  "kernelspec": {
   "display_name": "I_AM_AN_ML_ENGINEER_IN_THE_US",
   "language": "python",
   "name": "python3"
  },
  "language_info": {
   "codemirror_mode": {
    "name": "ipython",
    "version": 3
   },
   "file_extension": ".py",
   "mimetype": "text/x-python",
   "name": "python",
   "nbconvert_exporter": "python",
   "pygments_lexer": "ipython3",
   "version": "3.11.7"
  }
 },
 "nbformat": 4,
 "nbformat_minor": 5
}
